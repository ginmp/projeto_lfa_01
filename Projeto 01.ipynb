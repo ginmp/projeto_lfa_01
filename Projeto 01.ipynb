{
 "cells": [
  {
   "cell_type": "markdown",
   "metadata": {},
   "source": [
    "<div style=\"font-size: 26px; font-weight: bold; //border: 3px solid gray;\">\n",
    "<div style=\"padding: 10px 0 26px 0;\">\n",
    "    <div style=\"display:inline; float:left;\">Glauber Augusto de Freitas Cruz</div> \n",
    "    <div style=\"display:inline; float:right;\">153186</div>\n",
    "</div>\n",
    "<div style=\"padding: 10px 0 10px 0;\">\n",
    "    <div style=\"display:inline; float:left;\">Lucas Mello Namorato</div> \n",
    "    <div style=\"display:inline; float:right;\">171917</div>\n",
    "</div>\n",
    "\n",
    "</div>"
   ]
  },
  {
   "cell_type": "markdown",
   "metadata": {},
   "source": [
    "----\n",
    "\n",
    "<style type=\"text/css\">\n",
    "a {color: black;}\n",
    "h1 {color:#000099;}\n",
    "</style>\n"
   ]
  },
  {
   "cell_type": "markdown",
   "metadata": {},
   "source": [
    "<img src=\"https://jeonline.com.br/site/uploads/posts/estao-abertas-as-inscricoes-para-os-cursos-de-ferias-da-facens-e7bfdb25b8ce5a9c527caa1d68ea0c1b.jpg\" />"
   ]
  },
  {
   "cell_type": "markdown",
   "metadata": {},
   "source": [
    "   "
   ]
  },
  {
   "cell_type": "markdown",
   "metadata": {},
   "source": [
    "<h1 style=\"text-align: center; font-size: 50px\">Projeto 01</h1>"
   ]
  },
  {
   "cell_type": "markdown",
   "metadata": {},
   "source": [
    "\n",
    "<h1 style=\"text-align:center;\"> Sumário </h1>\n",
    "\n",
    "<div style=\"margin: auto;\n",
    "  width: 50%;\n",
    "  //text-align: center;\n",
    "  //border: 3px solid gray;\n",
    "  \">\n",
    "   \n",
    "        <h3 >\n",
    "    <ul>\n",
    "        <li>\n",
    "            <a href=\"#p1\">Parte 1</a>\n",
    "        </li>\n",
    "        <br/>\n",
    "        <li>\n",
    "            <a href=\"#p2\">Parte 2</a>\n",
    "        </li>\n",
    "        <br/>\n",
    "        <li>\n",
    "            <a href=\"#tst\">Teste</a>\n",
    "        </li>\n",
    "    </ul>\n",
    "    </h3>\n",
    "</div>\n"
   ]
  },
  {
   "cell_type": "code",
   "execution_count": 5,
   "metadata": {},
   "outputs": [],
   "source": [
    "import projeto_lfa_01 as p1\n",
    "import projeto_lfa_01_grafo as p2"
   ]
  },
  {
   "cell_type": "markdown",
   "metadata": {},
   "source": [
    "<div id=\"p1\"/>\n",
    "# Parte 1"
   ]
  },
  {
   "cell_type": "code",
   "execution_count": 6,
   "metadata": {},
   "outputs": [
    {
     "name": "stdout",
     "output_type": "stream",
     "text": [
      "\n",
      "producao\n",
      "[1]\t{'S': 'XY'}\n",
      "[2]\t{'X': 'XaA'}\n",
      "[3]\t{'X': 'XbB'}\n",
      "[4]\t{'X': 'F'}\n",
      "[5]\t{'Aa': 'aA'}\n",
      "[6]\t{'Ab': 'bA'}\n",
      "[7]\t{'AY': 'Ya'}\n",
      "[8]\t{'Ba': 'aB'}\n",
      "[9]\t{'Bb': 'bB'}\n",
      "[10]\t{'BY': 'Yb'}\n",
      "[11]\t{'Fa': 'aF'}\n",
      "[12]\t{'Fb': 'bF'}\n",
      "[13]\t{'FY': '@e@'}\n",
      "\n",
      "instrucoes =      [1, 2, 7, 3, 8, 10, 4, 12, 11, 13]\n",
      "\n",
      " resultado = 'ba@e@ba'\n",
      " info = OK\n",
      " instrucao 13\n",
      " palavras = ['S', 'XY', 'XaAY', 'XaYa', 'XbBaYa', 'XbaBYa', 'XbaYba', 'FbaYba', 'bFaYba', 'baFYba', 'ba@e@ba']\n"
     ]
    }
   ],
   "source": [
    "instrucoes = [0,1,6,2,7,9,3,11,10,12]\n",
    "palavra = 'S'\n",
    "\n",
    "p1.teste(palavra,instrucoes)"
   ]
  },
  {
   "cell_type": "markdown",
   "metadata": {},
   "source": [
    "<div id=\"p2\"/>\n",
    "# Parte 2"
   ]
  },
  {
   "cell_type": "code",
   "execution_count": 7,
   "metadata": {},
   "outputs": [
    {
     "name": "stdout",
     "output_type": "stream",
     "text": [
      "producao\n",
      "{'S': 'XY'}\n",
      "{'X': 'XaA'}\n",
      "{'X': 'XbB'}\n",
      "{'X': 'F'}\n",
      "{'Aa': 'aA'}\n",
      "{'Ab': 'bA'}\n",
      "{'AY': 'Ya'}\n",
      "{'Ba': 'aB'}\n",
      "{'Bb': 'bB'}\n",
      "{'BY': 'Yb'}\n",
      "{'Fa': 'aF'}\n",
      "{'Fb': 'bF'}\n",
      "{'FY': '@e@'}\n",
      "\n",
      "edges\n",
      "Ba =aB=> aB\n",
      "Ab =bA=> bA\n",
      "X =XaA=> XaA\n",
      "X =XbB=> XbB\n",
      "X =F=> F\n",
      "Bb =bB=> bB\n",
      "Fb =bF=> bF\n",
      "Aa =aA=> aA\n",
      "Fa =aF=> aF\n",
      "AY =Ya=> Ya\n",
      "S =XY=> XY\n",
      "BY =Yb=> Yb\n",
      "FY =@e@=> @e@\n",
      "\n",
      "= = = = = = = = = = = = = = = = = = = = = = = = = \n",
      "\n",
      "baba, nao existe: [iXXo], existe: [iSSo X ISSO], S XaYXBaYXBAaY SSS SSS SSS SSS: S =XY=> XY, 14\n",
      "baba, nao existe: [iXXo], existe: [iSSo X ISSO], XY XaYXBaYXBAaY XYSXY XYSXY XYSXY XYSXY: Aa =aA=> aA, 13\n",
      "baba, nao existe: [iXXo], existe: [iSSo X ISSO], XY XaYXBaYXBaAY XYSXY XYSXY XYSXY XYSXY: X =XaA=> XaA, 12\n",
      "baba, nao existe: [iXXo], existe: [iSSo X ISSO], XaAY XaYXBaYXBaAY XaAYSXaAY XaAYSXaAY XaAYSXaAY XaAYSXaAY: S =XY=> XY, 11\n",
      "baba, nao existe: [iXXo], existe: [iSSo X IXYXYO], XaAY XaYXBaYXBaAY XaAYSXaAY XaAYSXaAY XaAYSXaAY XaAYSXaAY: AY =Ya=> Ya, 10\n",
      "baba, nao existe: [iXXo], existe: [iSSo X IXYXYO], XaYa XaYXBaYXBaYa XaYaSXaYa XaYaSXaYa XaYaSXaYa XaYaSXaYa: X =XbB=> XbB, 9\n",
      "baba, nao existe: [iXXo], existe: [iSSo X IXYXYO], XbBaYa XbBaYXBaYXBaYa XbBaYaSXbBaYa XbBaYaSXbBaYa XbBaYaSXbBaYa XbBaYaSXbBaYa: X =F=> F, 8\n",
      "baba, nao existe: [iXXo], existe: [iSSo X IFYFYO], FbBaYa FbBaYFBaYFBaYa FbBaYaSFbBaYa FbBaYaSFbBaYa FbBaYaSFbBaYa FbBaYaSFbBaYa: Fb =bF=> bF, 7\n",
      "baba, nao existe: [iXXo], existe: [iSSo X IFYFYO], bFBaYa bFBaYFBaYFBaYa bFBaYaSbFBaYa bFBaYaSbFBaYa bFBaYaSbFBaYa bFBaYaSbFBaYa: Ba =aB=> aB, 6\n",
      "baba, nao existe: [iXXo], existe: [iSSo X IFYFYO], bFaBYa bFaBYFaBYFaBYa bFaBYaSbFaBYa bFaBYaSbFaBYa bFaBYaSbFaBYa bFaBYaSbFaBYa: BY =Yb=> Yb, 5\n",
      "baba, nao existe: [iXXo], existe: [iSSo X IFYFYO], bFaYba bFaYbFaYbFaYba bFaYbaSbFaYba bFaYbaSbFaYba bFaYbaSbFaYba bFaYbaSbFaYba: Fa =aF=> aF, 4\n",
      "baba, nao existe: [iXXo], existe: [iSSo X IFYFYO], baFYba baFYbaFYbaFYba baFYbaSbaFYba baFYbaSbaFYba baFYbaSbaFYba baFYbaSbaFYba: FY =@e@=> @e@, 3\n",
      "baba, nao existe: [iXXo], existe: [iSSo X I@e@@e@O], ba@e@ba ba@e@ba@e@ba@e@ba ba@e@baSba@e@ba ba@e@baSba@e@ba ba@e@baSba@e@ba ba@e@baSba@e@ba: S =XY=> XY, 2\n",
      "baba, nao existe: [iXXo], existe: [iXYXYo X I@e@@e@O], ba@e@ba ba@e@ba@e@ba@e@ba ba@e@baSba@e@ba ba@e@baSba@e@ba ba@e@baSba@e@ba ba@e@baSba@e@ba: X =XaA=> XaA, 1\n",
      "baba, nao existe: [iXXo], existe: [iXYXYo XaA I@e@@e@O], ba@e@ba ba@e@ba@e@ba@e@ba ba@e@baSba@e@ba ba@e@baSba@e@ba ba@e@baSba@e@ba ba@e@baSba@e@ba: start, 0\n",
      "\n",
      "instrucoes\n",
      "[1] \t XY \t ==> \t S\n",
      "[5] \t aA \t ==> \t Aa\n",
      "[2] \t XaA \t ==> \t X\n",
      "[1] \t XY \t ==> \t S\n",
      "[7] \t Ya \t ==> \t AY\n",
      "[3] \t XbB \t ==> \t X\n",
      "[4] \t F \t ==> \t X\n",
      "[12] \t bF \t ==> \t Fb\n",
      "[8] \t aB \t ==> \t Ba\n",
      "[10] \t Yb \t ==> \t BY\n",
      "[11] \t aF \t ==> \t Fa\n",
      "[13] \t @e@ \t ==> \t FY\n",
      "[1] \t XY \t ==> \t S\n",
      "[2] \t XaA \t ==> \t X\n",
      "\n",
      "= = = = = = = = = = = = = = = = = = = = = = = = = \n",
      "\n"
     ]
    },
    {
     "data": {
      "text/plain": [
       "('baba, nao existe: [iXXo], existe: [iSSo X ISSO], S XaYXBaYXBAaY SSS SSS SSS SSS',\n",
       " [0, 4, 1, 0, 6, 2, 3, 11, 7, 9, 10, 12, 0, 1])"
      ]
     },
     "execution_count": 7,
     "metadata": {},
     "output_type": "execute_result"
    }
   ],
   "source": [
    "phrase = 'baba, nao existe: [iXXo], existe: [iXYXYo XaA I@e@@e@O], ba@e@ba ba@e@ba@e@ba@e@ba ba@e@baSba@e@ba ba@e@baSba@e@ba ba@e@baSba@e@ba ba@e@baSba@e@ba'\n",
    "p2.teste(phrase)"
   ]
  },
  {
   "cell_type": "markdown",
   "metadata": {},
   "source": [
    "<div id='tst'/>\n",
    "# Teste"
   ]
  },
  {
   "cell_type": "code",
   "execution_count": 8,
   "metadata": {},
   "outputs": [
    {
     "name": "stdout",
     "output_type": "stream",
     "text": [
      "producao\n",
      "{'S': 'XY'}\n",
      "{'X': 'XaA'}\n",
      "{'X': 'XbB'}\n",
      "{'X': 'F'}\n",
      "{'Aa': 'aA'}\n",
      "{'Ab': 'bA'}\n",
      "{'AY': 'Ya'}\n",
      "{'Ba': 'aB'}\n",
      "{'Bb': 'bB'}\n",
      "{'BY': 'Yb'}\n",
      "{'Fa': 'aF'}\n",
      "{'Fb': 'bF'}\n",
      "{'FY': '@e@'}\n",
      "\n",
      "edges\n",
      "Ba =aB=> aB\n",
      "Ab =bA=> bA\n",
      "X =XaA=> XaA\n",
      "X =XbB=> XbB\n",
      "X =F=> F\n",
      "Bb =bB=> bB\n",
      "Fb =bF=> bF\n",
      "Aa =aA=> aA\n",
      "Fa =aF=> aF\n",
      "AY =Ya=> Ya\n",
      "S =XY=> XY\n",
      "BY =Yb=> Yb\n",
      "FY =@e@=> @e@\n",
      "\n",
      "S: S =XY=> XY, 10\n",
      "XY: X =XaA=> XaA, 9\n",
      "XaAY: AY =Ya=> Ya, 8\n",
      "XaYa: X =XbB=> XbB, 7\n",
      "XbBaYa: Ba =aB=> aB, 6\n",
      "XbaBYa: BY =Yb=> Yb, 5\n",
      "XbaYba: X =F=> F, 4\n",
      "FbaYba: Fb =bF=> bF, 3\n",
      "bFaYba: Fa =aF=> aF, 2\n",
      "baFYba: FY =@e@=> @e@, 1\n",
      "ba@e@ba: start, 0\n",
      "\n",
      "instrucoes\n",
      "[1] \t XY \t ==> \t S\n",
      "[2] \t XaA \t ==> \t X\n",
      "[7] \t Ya \t ==> \t AY\n",
      "[3] \t XbB \t ==> \t X\n",
      "[8] \t aB \t ==> \t Ba\n",
      "[10] \t Yb \t ==> \t BY\n",
      "[4] \t F \t ==> \t X\n",
      "[12] \t bF \t ==> \t Fb\n",
      "[11] \t aF \t ==> \t Fa\n",
      "[13] \t @e@ \t ==> \t FY\n",
      "\n",
      "= = = = = = = = = = = = = = = = = = = = = = = = = \n",
      "\n",
      "**************************************************\n",
      "\n",
      "producao\n",
      "[1]\t{'S': 'XY'}\n",
      "[2]\t{'X': 'XaA'}\n",
      "[3]\t{'X': 'XbB'}\n",
      "[4]\t{'X': 'F'}\n",
      "[5]\t{'Aa': 'aA'}\n",
      "[6]\t{'Ab': 'bA'}\n",
      "[7]\t{'AY': 'Ya'}\n",
      "[8]\t{'Ba': 'aB'}\n",
      "[9]\t{'Bb': 'bB'}\n",
      "[10]\t{'BY': 'Yb'}\n",
      "[11]\t{'Fa': 'aF'}\n",
      "[12]\t{'Fb': 'bF'}\n",
      "[13]\t{'FY': '@e@'}\n",
      "\n",
      "instrucoes =      [1, 2, 7, 3, 8, 10, 4, 12, 11, 13]\n",
      "\n",
      " resultado = 'ba@e@ba'\n",
      " info = OK\n",
      " instrucao 13\n",
      " palavras = ['S', 'XY', 'XaAY', 'XaYa', 'XbBaYa', 'XbaBYa', 'XbaYba', 'FbaYba', 'bFaYba', 'baFYba', 'ba@e@ba']\n"
     ]
    }
   ],
   "source": [
    "phrase = 'ba@e@ba'\n",
    "palavra, instrucoes = p2.teste(phrase)\n",
    "print('*'*50)\n",
    "p1.teste(palavra, instrucoes)"
   ]
  },
  {
   "cell_type": "code",
   "execution_count": null,
   "metadata": {},
   "outputs": [],
   "source": []
  }
 ],
 "metadata": {
  "kernelspec": {
   "display_name": "Python [default]",
   "language": "python",
   "name": "python3"
  },
  "language_info": {
   "codemirror_mode": {
    "name": "ipython",
    "version": 3
   },
   "file_extension": ".py",
   "mimetype": "text/x-python",
   "name": "python",
   "nbconvert_exporter": "python",
   "pygments_lexer": "ipython3",
   "version": "3.5.5"
  }
 },
 "nbformat": 4,
 "nbformat_minor": 2
}
